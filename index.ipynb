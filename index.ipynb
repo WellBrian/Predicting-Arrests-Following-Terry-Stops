{
 "cells": [
  {
   "cell_type": "markdown",
   "metadata": {},
   "source": [
    "# **Predicting Arrests Following Terry Stops: Analyzing Factors Influencing Police Decision-Making**"
   ]
  },
  {
   "cell_type": "markdown",
   "metadata": {},
   "source": [
    "## **Introduction**"
   ]
  },
  {
   "cell_type": "markdown",
   "metadata": {},
   "source": [
    "In the realm of law enforcement, Terry Stops have been a subject of ongoing debate and scrutiny since their inception following the 1968 Supreme Court case Terry v. Ohio. These brief detentions, based on reasonable suspicion rather than probable cause, have become a common policing practice but have also raised concerns about potential biases and the fine line between public safety and individual rights. This project aims to delve into the complex dynamics of Terry Stops by leveraging data analytics and machine learning techniques. Our goal is to develop a predictive model that can determine the likelihood of an arrest following a Terry Stop, based on various factors such as the presence of weapons, time of day, and potentially sensitive demographic information like race and gender.  \n",
    "\n",
    "By analyzing this data, we seek to uncover patterns and insights that could help law enforcement agencies refine their practices, address potential biases, and strike a balance between effective policing and fair treatment of all individuals. This analysis is particularly timely given the current national discourse on police reform and racial equity in the justice system. Our approach will involve careful consideration of ethical implications, transparent methodology, and a commitment to presenting findings in a way that contributes constructively to the ongoing dialogue about fair and effective law enforcement. Through this project, we aim to provide data-driven insights that can inform policy decisions, enhance police training, and ultimately contribute to building trust between law enforcement and the communities they serve. As we embark on this analysis, we recognize the sensitivity of the subject matter and the potential impact of our findings. Our objective is not to pass judgment but to illuminate patterns and trends that can lead to more informed, equitable, and effective policing practices in the context of Terry Stops.  "
   ]
  },
  {
   "cell_type": "markdown",
   "metadata": {},
   "source": [
    "## **Business Understanding**"
   ]
  },
  {
   "cell_type": "markdown",
   "metadata": {},
   "source": [
    "### Problem Statement"
   ]
  },
  {
   "cell_type": "markdown",
   "metadata": {},
   "source": [
    "Law enforcement agencies are facing scrutiny over their stop-and-frisk practices, particularly regarding potential biases in arrest decisions. There's a need to understand the factors that influence whether an arrest is made following a Terry Stop to ensure fair and effective policing. This project aims to use data analysis and machine learning to shed light on the factors influencing arrest decisions during Terry Stops, potentially uncovering patterns that could help improve police practices and address concerns about bias in law enforcement."
   ]
  },
  {
   "cell_type": "markdown",
   "metadata": {},
   "source": [
    "### Objectives"
   ]
  },
  {
   "cell_type": "markdown",
   "metadata": {},
   "source": [
    "- Develop a machine learning model to predict whether an arrest will be made after a Terry Stop.  \n",
    "- Identify key factors that contribute to arrest decisions.  \n",
    "- Analyze if and how demographic factors (race, gender) correlate with arrest outcomes.  \n",
    "- Provide insights to help law enforcement agencies improve their decision-making processes and address potential biases.  "
   ]
  },
  {
   "cell_type": "markdown",
   "metadata": {},
   "source": [
    "### Stakeholders"
   ]
  },
  {
   "cell_type": "markdown",
   "metadata": {},
   "source": [
    "- Law enforcement agencies\n",
    "- Police officers\n",
    "- Policy makers\n",
    "- Community leaders and civil rights organizations\n",
    "- General public"
   ]
  },
  {
   "cell_type": "markdown",
   "metadata": {},
   "source": [
    "### Data Sources"
   ]
  },
  {
   "cell_type": "markdown",
   "metadata": {},
   "source": [
    "Dataset was obtained from Seattle Government which can be accessed using this [link](https://data.seattle.gov/Public-Safety/Terry-Stops/28ny-9ts8/data_preview)  \n",
    "Terry Stops dataset containing information on:  \n",
    "\n",
    "- Presence of weapons  \n",
    "- Time of day of the call  \n",
    "- Demographic information (race, gender) of subjects and officers  \n",
    "- Arrest outcomes  "
   ]
  },
  {
   "cell_type": "markdown",
   "metadata": {},
   "source": [
    "### Ethical Considerations"
   ]
  },
  {
   "cell_type": "markdown",
   "metadata": {},
   "source": [
    "- Handling sensitive demographic data responsibly  \n",
    "- Addressing potential biases in the dataset and model  \n",
    "- Ensuring transparency in methodology and findings  \n",
    "- Considering the broader societal implications of the analysis  "
   ]
  },
  {
   "cell_type": "markdown",
   "metadata": {},
   "source": [
    "### Success Criteria "
   ]
  },
  {
   "cell_type": "markdown",
   "metadata": {},
   "source": [
    "- Develop a classifier with high accuracy in predicting arrests  \n",
    "- Provide actionable insights for improving police practices  \n",
    "- Contribute to the ongoing dialogue about fair policing and potential biases in law enforcement  "
   ]
  },
  {
   "cell_type": "markdown",
   "metadata": {},
   "source": [
    "### Methodology"
   ]
  },
  {
   "cell_type": "markdown",
   "metadata": {},
   "source": [
    "1. **Data Collection and Inspection**: Gathering the necessary data from the provided dataset.\n",
    "2. **Data Cleaning and Preparation**: Cleaning the data to handle missing values, outliers, and incorrect data types.\n",
    "3. **Exploratory Data Analysis (EDA)**: Analyzing the data to find patterns, relationships, and insights.\n",
    "4. **Data Preprocessing**: This includes `Feature Selection`, `Target Variable Encoding`, `Time Conversion` and `Categorical Encoding`.\n",
    "5. **Data Splitting**: Splitting data into Training and Testing sets using the **70/30** ratio.\n",
    "6. **Model Selection and Training**: Come up with model choice and model training.\n",
    "7. **Model Evaluation**: Check on Accuracy and Classification Report\n",
    "8. **Discussion and Next Steps**: Model Performance Analaysis and Future work"
   ]
  },
  {
   "cell_type": "markdown",
   "metadata": {},
   "source": [
    "## **Data Understanding**"
   ]
  },
  {
   "cell_type": "markdown",
   "metadata": {},
   "source": [
    "Importing libraries"
   ]
  },
  {
   "cell_type": "code",
   "execution_count": 22,
   "metadata": {},
   "outputs": [],
   "source": [
    "# import necessary libraries and functions\n",
    "import pandas as pd\n",
    "import numpy as np\n",
    "from matplotlib.pyplot import plot\n",
    "from sklearn.model_selection import train_test_split\n",
    "from sklearn.preprocessing import StandardScaler \n",
    "from sklearn.linear_model import LogisticRegression\n",
    "from sklearn.tree import DecisionTreeClassifier\n",
    "from sklearn.model_selection import cross_val_score\n",
    "from sklearn.metrics import accuracy_score, roc_curve, roc_auc_score\n",
    "from sklearn.preprocessing import OneHotEncoder\n",
    "from sklearn import tree\n"
   ]
  },
  {
   "cell_type": "markdown",
   "metadata": {},
   "source": [
    "Loading the Data and viewing the first 5 rows of the Dataset"
   ]
  },
  {
   "cell_type": "code",
   "execution_count": 23,
   "metadata": {},
   "outputs": [
    {
     "data": {
      "text/html": [
       "<div>\n",
       "<style scoped>\n",
       "    .dataframe tbody tr th:only-of-type {\n",
       "        vertical-align: middle;\n",
       "    }\n",
       "\n",
       "    .dataframe tbody tr th {\n",
       "        vertical-align: top;\n",
       "    }\n",
       "\n",
       "    .dataframe thead th {\n",
       "        text-align: right;\n",
       "    }\n",
       "</style>\n",
       "<table border=\"1\" class=\"dataframe\">\n",
       "  <thead>\n",
       "    <tr style=\"text-align: right;\">\n",
       "      <th></th>\n",
       "      <th>Subject Age Group</th>\n",
       "      <th>Subject ID</th>\n",
       "      <th>GO / SC Num</th>\n",
       "      <th>Terry Stop ID</th>\n",
       "      <th>Stop Resolution</th>\n",
       "      <th>Weapon Type</th>\n",
       "      <th>Officer ID</th>\n",
       "      <th>Officer YOB</th>\n",
       "      <th>Officer Gender</th>\n",
       "      <th>Officer Race</th>\n",
       "      <th>...</th>\n",
       "      <th>Reported Time</th>\n",
       "      <th>Initial Call Type</th>\n",
       "      <th>Final Call Type</th>\n",
       "      <th>Call Type</th>\n",
       "      <th>Officer Squad</th>\n",
       "      <th>Arrest Flag</th>\n",
       "      <th>Frisk Flag</th>\n",
       "      <th>Precinct</th>\n",
       "      <th>Sector</th>\n",
       "      <th>Beat</th>\n",
       "    </tr>\n",
       "  </thead>\n",
       "  <tbody>\n",
       "    <tr>\n",
       "      <th>0</th>\n",
       "      <td>18 - 25</td>\n",
       "      <td>-1</td>\n",
       "      <td>20170000017766</td>\n",
       "      <td>230380</td>\n",
       "      <td>Offense Report</td>\n",
       "      <td>NaN</td>\n",
       "      <td>6728</td>\n",
       "      <td>1973</td>\n",
       "      <td>M</td>\n",
       "      <td>Two or More Races</td>\n",
       "      <td>...</td>\n",
       "      <td>08:03:00.0000000</td>\n",
       "      <td>ASLT - PERSON SHOT OR SHOT AT</td>\n",
       "      <td>--DRIVE BY SHOOTING - NO INJURIES</td>\n",
       "      <td>911</td>\n",
       "      <td>SOUTH PCT 1ST W - R/S RELIEF</td>\n",
       "      <td>N</td>\n",
       "      <td>Y</td>\n",
       "      <td>South</td>\n",
       "      <td>S</td>\n",
       "      <td>S2</td>\n",
       "    </tr>\n",
       "    <tr>\n",
       "      <th>1</th>\n",
       "      <td>-</td>\n",
       "      <td>-1</td>\n",
       "      <td>20190000273690</td>\n",
       "      <td>8755198750</td>\n",
       "      <td>Field Contact</td>\n",
       "      <td>-</td>\n",
       "      <td>7528</td>\n",
       "      <td>1969</td>\n",
       "      <td>M</td>\n",
       "      <td>White</td>\n",
       "      <td>...</td>\n",
       "      <td>06:38:41.0000000</td>\n",
       "      <td>OBS WEAPN-IP/JO-GUN,DEADLY WPN (NO THRT/ASLT/D...</td>\n",
       "      <td>--WEAPON,PERSON WITH - OTHER WEAPON</td>\n",
       "      <td>911</td>\n",
       "      <td>NORTH PCT OPS - CPT</td>\n",
       "      <td>N</td>\n",
       "      <td>Y</td>\n",
       "      <td>North</td>\n",
       "      <td>U</td>\n",
       "      <td>U3</td>\n",
       "    </tr>\n",
       "    <tr>\n",
       "      <th>2</th>\n",
       "      <td>36 - 45</td>\n",
       "      <td>7735709716</td>\n",
       "      <td>20200000186847</td>\n",
       "      <td>13469755649</td>\n",
       "      <td>Field Contact</td>\n",
       "      <td>-</td>\n",
       "      <td>6414</td>\n",
       "      <td>1964</td>\n",
       "      <td>M</td>\n",
       "      <td>Asian</td>\n",
       "      <td>...</td>\n",
       "      <td>01:27:52.0000000</td>\n",
       "      <td>OBS - DOWN - CHECK FOR PERSON DOWN</td>\n",
       "      <td>--SUSPICIOUS CIRCUM. - SUSPICIOUS PERSON</td>\n",
       "      <td>911</td>\n",
       "      <td>NORTH PCT 3RD W - NORA (JOHN) - PLATOON 1</td>\n",
       "      <td>N</td>\n",
       "      <td>N</td>\n",
       "      <td>North</td>\n",
       "      <td>N</td>\n",
       "      <td>N2</td>\n",
       "    </tr>\n",
       "    <tr>\n",
       "      <th>3</th>\n",
       "      <td>46 - 55</td>\n",
       "      <td>-1</td>\n",
       "      <td>20170000149189</td>\n",
       "      <td>460834</td>\n",
       "      <td>Arrest</td>\n",
       "      <td>NaN</td>\n",
       "      <td>5491</td>\n",
       "      <td>1967</td>\n",
       "      <td>M</td>\n",
       "      <td>Black or African American</td>\n",
       "      <td>...</td>\n",
       "      <td>09:53:00.0000000</td>\n",
       "      <td>ASLT - WITH OR W/O WPNS (NO SHOOTINGS)</td>\n",
       "      <td>--ASSAULTS, OTHER</td>\n",
       "      <td>911</td>\n",
       "      <td>NORTH PCT 1ST W - LINCOLN (UNION) - PLATOON 1</td>\n",
       "      <td>N</td>\n",
       "      <td>Y</td>\n",
       "      <td>North</td>\n",
       "      <td>L</td>\n",
       "      <td>L3</td>\n",
       "    </tr>\n",
       "    <tr>\n",
       "      <th>4</th>\n",
       "      <td>46 - 55</td>\n",
       "      <td>-1</td>\n",
       "      <td>20160000001969</td>\n",
       "      <td>153868</td>\n",
       "      <td>Field Contact</td>\n",
       "      <td>NaN</td>\n",
       "      <td>6899</td>\n",
       "      <td>1977</td>\n",
       "      <td>M</td>\n",
       "      <td>White</td>\n",
       "      <td>...</td>\n",
       "      <td>21:57:00.0000000</td>\n",
       "      <td>-</td>\n",
       "      <td>-</td>\n",
       "      <td>-</td>\n",
       "      <td>NORTH PCT 3RD W - LINCOLN - PLATOON 1</td>\n",
       "      <td>N</td>\n",
       "      <td>N</td>\n",
       "      <td>-</td>\n",
       "      <td>-</td>\n",
       "      <td>-</td>\n",
       "    </tr>\n",
       "  </tbody>\n",
       "</table>\n",
       "<p>5 rows × 23 columns</p>\n",
       "</div>"
      ],
      "text/plain": [
       "  Subject Age Group  Subject ID     GO / SC Num  Terry Stop ID  \\\n",
       "0           18 - 25          -1  20170000017766         230380   \n",
       "1                 -          -1  20190000273690     8755198750   \n",
       "2           36 - 45  7735709716  20200000186847    13469755649   \n",
       "3           46 - 55          -1  20170000149189         460834   \n",
       "4           46 - 55          -1  20160000001969         153868   \n",
       "\n",
       "  Stop Resolution Weapon Type Officer ID  Officer YOB Officer Gender  \\\n",
       "0  Offense Report         NaN       6728         1973              M   \n",
       "1   Field Contact           -       7528         1969              M   \n",
       "2   Field Contact           -       6414         1964              M   \n",
       "3          Arrest         NaN       5491         1967              M   \n",
       "4   Field Contact         NaN       6899         1977              M   \n",
       "\n",
       "                Officer Race  ...     Reported Time  \\\n",
       "0          Two or More Races  ...  08:03:00.0000000   \n",
       "1                      White  ...  06:38:41.0000000   \n",
       "2                      Asian  ...  01:27:52.0000000   \n",
       "3  Black or African American  ...  09:53:00.0000000   \n",
       "4                      White  ...  21:57:00.0000000   \n",
       "\n",
       "                                   Initial Call Type  \\\n",
       "0                      ASLT - PERSON SHOT OR SHOT AT   \n",
       "1  OBS WEAPN-IP/JO-GUN,DEADLY WPN (NO THRT/ASLT/D...   \n",
       "2                 OBS - DOWN - CHECK FOR PERSON DOWN   \n",
       "3             ASLT - WITH OR W/O WPNS (NO SHOOTINGS)   \n",
       "4                                                  -   \n",
       "\n",
       "                            Final Call Type Call Type  \\\n",
       "0         --DRIVE BY SHOOTING - NO INJURIES       911   \n",
       "1       --WEAPON,PERSON WITH - OTHER WEAPON       911   \n",
       "2  --SUSPICIOUS CIRCUM. - SUSPICIOUS PERSON       911   \n",
       "3                         --ASSAULTS, OTHER       911   \n",
       "4                                         -         -   \n",
       "\n",
       "                                   Officer Squad Arrest Flag Frisk Flag  \\\n",
       "0                   SOUTH PCT 1ST W - R/S RELIEF           N          Y   \n",
       "1                            NORTH PCT OPS - CPT           N          Y   \n",
       "2      NORTH PCT 3RD W - NORA (JOHN) - PLATOON 1           N          N   \n",
       "3  NORTH PCT 1ST W - LINCOLN (UNION) - PLATOON 1           N          Y   \n",
       "4          NORTH PCT 3RD W - LINCOLN - PLATOON 1           N          N   \n",
       "\n",
       "  Precinct Sector Beat  \n",
       "0    South      S   S2  \n",
       "1    North      U   U3  \n",
       "2    North      N   N2  \n",
       "3    North      L   L3  \n",
       "4        -      -    -  \n",
       "\n",
       "[5 rows x 23 columns]"
      ]
     },
     "execution_count": 23,
     "metadata": {},
     "output_type": "execute_result"
    }
   ],
   "source": [
    "# Load the dataset\n",
    "df = pd.read_csv(\"./Data/Terry_Stops_20240823.csv\")\n",
    "# Viewing the first 5 rows\n",
    "df.head()"
   ]
  },
  {
   "cell_type": "markdown",
   "metadata": {},
   "source": [
    "Data Inspection"
   ]
  },
  {
   "cell_type": "code",
   "execution_count": 24,
   "metadata": {},
   "outputs": [
    {
     "data": {
      "text/plain": [
       "(60984, 23)"
      ]
     },
     "execution_count": 24,
     "metadata": {},
     "output_type": "execute_result"
    }
   ],
   "source": [
    "# The shape of the dataset\n",
    "df.shape"
   ]
  },
  {
   "cell_type": "markdown",
   "metadata": {},
   "source": [
    "The dataset contains 60,984 records and 23 columns.Here is a detailed list of the columns in the dataset, along with a brief description of each:\n",
    "\n",
    "1. `Subject Age Group`: The age range of the subject involved in the Terry Stop (e.g., \"18 - 25\", \"36 - 45\").  \n",
    "2. `Subject ID`: A unique identifier assigned to the subject of the Terry Stop.  \n",
    "3. `GO / SC Num`: An internal case or record number associated with the incident.  \n",
    "4. `Terry Stop ID`: A unique identifier for the specific Terry Stop event.  \n",
    "5. `Stop Resolution`: The outcome or resolution of the Terry Stop (e.g., \"Arrest\", \"Field Contact\", \"Offense Report\").  \n",
    "6. `Weapon Type`: The type of weapon found, if any, during the stop (e.g., \"None\", \"Firearm\", \"Knife\").  \n",
    "7. `Officer ID`: A unique identifier assigned to the officer conducting the stop.  \n",
    "8. `Officer YOB`: The year of birth of the officer involved in the stop.  \n",
    "9. `Officer Gender`: The gender of the officer (e.g., \"M\" for Male, \"F\" for Female).  \n",
    "10. `Officer Race`: The race or ethnicity of the officer (e.g., \"White\", \"Black or African American\", \"Asian\").  \n",
    "11. `Subject Perceived Race`: The race or ethnicity of the subject as perceived by the officer (e.g., \"White\", \"Black or African American\", \"Asian\").  \n",
    "12. `Subject Perceived Gender`: The gender of the subject as perceived by the officer (e.g., \"Male\", \"Female\").  \n",
    "13. `Reported Date`: The date on which the Terry Stop was reported.  \n",
    "14. `Reported Time`: The time at which the Terry Stop was reported (e.g., \"08:03:00.0000000\").  \n",
    "15. `Initial Call Type`: The type of the initial call that led to the Terry Stop (e.g., \"ASLT - PERSON SHOT OR SHOT AT\").  \n",
    "16. `Final Call Type`: The final classification of the call after the incident was resolved (e.g., \"DRIVE BY SHOOTING - NO INJURIES\").  \n",
    "17. `Call Type`: The nature of the call, usually indicating whether it was a 911 call or another type (e.g., \"911\").  \n",
    "18. `Officer Squad`: The squad or unit to which the officer belongs.  \n",
    "19. `Arrest Flag`: Indicates whether an arrest was made during the stop (Y for Yes, N for No).  \n",
    "20. `Frisk Flag`: Indicates whether a frisk or search was conducted during the stop (Y for Yes, N for No).  \n",
    "21. `Precinct`: The police precinct where the Terry Stop occurred.  \n",
    "22. `Sector`: A smaller geographical area within the precinct.  \n",
    "23. `Beat`: The specific patrol area or beat within the sector.  \n",
    "\n",
    "Key columns relevant for the binary classification task include:  \n",
    "\n",
    "- `Stop Resolution`: Indicates the outcome of the stop (e.g., Arrest, Field Contact).  \n",
    "- `Weapon Type`: Indicates whether a weapon was present.  \n",
    "- `Officer Gender, Officer Race, Officer YOB`: Information about the officer.  \n",
    "- `Subject Perceived Race, Subject Perceived Gender`: Information about the subject.  \n",
    "- `Reported Time`: Time of the stop.  \n",
    "- `Arrest Flag`: Indicates whether an arrest was made (Y or N).  "
   ]
  },
  {
   "cell_type": "code",
   "execution_count": 25,
   "metadata": {},
   "outputs": [
    {
     "name": "stdout",
     "output_type": "stream",
     "text": [
      "<class 'pandas.core.frame.DataFrame'>\n",
      "RangeIndex: 60984 entries, 0 to 60983\n",
      "Data columns (total 23 columns):\n",
      " #   Column                    Non-Null Count  Dtype \n",
      "---  ------                    --------------  ----- \n",
      " 0   Subject Age Group         60984 non-null  object\n",
      " 1   Subject ID                60984 non-null  int64 \n",
      " 2   GO / SC Num               60984 non-null  int64 \n",
      " 3   Terry Stop ID             60984 non-null  int64 \n",
      " 4   Stop Resolution           60984 non-null  object\n",
      " 5   Weapon Type               28419 non-null  object\n",
      " 6   Officer ID                60984 non-null  object\n",
      " 7   Officer YOB               60984 non-null  int64 \n",
      " 8   Officer Gender            60984 non-null  object\n",
      " 9   Officer Race              60984 non-null  object\n",
      " 10  Subject Perceived Race    60984 non-null  object\n",
      " 11  Subject Perceived Gender  60984 non-null  object\n",
      " 12  Reported Date             60984 non-null  object\n",
      " 13  Reported Time             60984 non-null  object\n",
      " 14  Initial Call Type         60984 non-null  object\n",
      " 15  Final Call Type           60984 non-null  object\n",
      " 16  Call Type                 60984 non-null  object\n",
      " 17  Officer Squad             60423 non-null  object\n",
      " 18  Arrest Flag               60984 non-null  object\n",
      " 19  Frisk Flag                60984 non-null  object\n",
      " 20  Precinct                  60984 non-null  object\n",
      " 21  Sector                    60984 non-null  object\n",
      " 22  Beat                      60984 non-null  object\n",
      "dtypes: int64(4), object(19)\n",
      "memory usage: 10.7+ MB\n"
     ]
    }
   ],
   "source": [
    "df.info()"
   ]
  },
  {
   "cell_type": "code",
   "execution_count": 26,
   "metadata": {},
   "outputs": [
    {
     "data": {
      "text/plain": [
       "Subject Age Group               0\n",
       "Subject ID                      0\n",
       "GO / SC Num                     0\n",
       "Terry Stop ID                   0\n",
       "Stop Resolution                 0\n",
       "Weapon Type                 32565\n",
       "Officer ID                      0\n",
       "Officer YOB                     0\n",
       "Officer Gender                  0\n",
       "Officer Race                    0\n",
       "Subject Perceived Race          0\n",
       "Subject Perceived Gender        0\n",
       "Reported Date                   0\n",
       "Reported Time                   0\n",
       "Initial Call Type               0\n",
       "Final Call Type                 0\n",
       "Call Type                       0\n",
       "Officer Squad                 561\n",
       "Arrest Flag                     0\n",
       "Frisk Flag                      0\n",
       "Precinct                        0\n",
       "Sector                          0\n",
       "Beat                            0\n",
       "dtype: int64"
      ]
     },
     "execution_count": 26,
     "metadata": {},
     "output_type": "execute_result"
    }
   ],
   "source": [
    "df.isna().sum()"
   ]
  },
  {
   "cell_type": "markdown",
   "metadata": {},
   "source": [
    "From the Dataset information, `Weapon Type` has 32,565 null values and `Officer Squad` has 561 null values, the rest have no null values. In addition, majority of the column's DataTypes are `object`(**19**) whereas only **4** are `integers`  "
   ]
  },
  {
   "cell_type": "code",
   "execution_count": 27,
   "metadata": {},
   "outputs": [
    {
     "name": "stdout",
     "output_type": "stream",
     "text": [
      "               Missing Values  Percentage\n",
      "Weapon Type             32565   53.399252\n",
      "Officer Squad             561    0.919913\n"
     ]
    }
   ],
   "source": [
    "# Checking for missing values and their percentages\n",
    "missing_values = df.isnull().sum()\n",
    "missing_percentage = (missing_values / df.shape[0]) * 100\n",
    "missing_data = pd.DataFrame({'Missing Values': missing_values, 'Percentage': missing_percentage})\n",
    "print(missing_data[missing_data['Missing Values'] > 0])"
   ]
  },
  {
   "cell_type": "markdown",
   "metadata": {},
   "source": [
    "We identified the columns with missing values and their respective percentages to understand the extent of missing data in our dataset. The results are as follows:  \n",
    "| Column         | Missing Values |  Percentage    | \n",
    "|----------------|----------------|----------------|\n",
    "| Weapon Type    |   32565        | 53.399252 %    |\n",
    "| Officer Squad  |   561          | 0.919913 %     |\n",
    "\n",
    "***Comment***  \n",
    "Weapon Type: The high percentage of missing data for weapon type is a major concern. It could indicate issues in data collection, reporting, or recording processes. This missing data might introduce significant bias if not handled properly.  \n",
    "\n",
    "Officer Squad: The low percentage of missing data for officer squad is less problematic. Since we are not going to use it anywhere. Nothing much is going to be done about it.\n",
    "\n",
    "These missing values in Weapon Type column will need to be addressed during the data preprocessing stage to ensure the accuracy of our model."
   ]
  },
  {
   "cell_type": "code",
   "execution_count": 28,
   "metadata": {},
   "outputs": [
    {
     "data": {
      "text/plain": [
       "0"
      ]
     },
     "execution_count": 28,
     "metadata": {},
     "output_type": "execute_result"
    }
   ],
   "source": [
    "#checking for duplicates in our dataset\n",
    "df.duplicated().sum()"
   ]
  },
  {
   "cell_type": "markdown",
   "metadata": {},
   "source": [
    "There are no dublicates in this Dataset."
   ]
  },
  {
   "cell_type": "code",
   "execution_count": 29,
   "metadata": {},
   "outputs": [
    {
     "data": {
      "text/html": [
       "<div>\n",
       "<style scoped>\n",
       "    .dataframe tbody tr th:only-of-type {\n",
       "        vertical-align: middle;\n",
       "    }\n",
       "\n",
       "    .dataframe tbody tr th {\n",
       "        vertical-align: top;\n",
       "    }\n",
       "\n",
       "    .dataframe thead th {\n",
       "        text-align: right;\n",
       "    }\n",
       "</style>\n",
       "<table border=\"1\" class=\"dataframe\">\n",
       "  <thead>\n",
       "    <tr style=\"text-align: right;\">\n",
       "      <th></th>\n",
       "      <th>Subject ID</th>\n",
       "      <th>GO / SC Num</th>\n",
       "      <th>Terry Stop ID</th>\n",
       "      <th>Officer YOB</th>\n",
       "    </tr>\n",
       "  </thead>\n",
       "  <tbody>\n",
       "    <tr>\n",
       "      <th>count</th>\n",
       "      <td>6.098400e+04</td>\n",
       "      <td>6.098400e+04</td>\n",
       "      <td>6.098400e+04</td>\n",
       "      <td>60984.000000</td>\n",
       "    </tr>\n",
       "    <tr>\n",
       "      <th>mean</th>\n",
       "      <td>7.264174e+09</td>\n",
       "      <td>2.018662e+13</td>\n",
       "      <td>1.214806e+10</td>\n",
       "      <td>1984.078398</td>\n",
       "    </tr>\n",
       "    <tr>\n",
       "      <th>std</th>\n",
       "      <td>1.268858e+10</td>\n",
       "      <td>8.574292e+10</td>\n",
       "      <td>1.750952e+10</td>\n",
       "      <td>9.471936</td>\n",
       "    </tr>\n",
       "    <tr>\n",
       "      <th>min</th>\n",
       "      <td>-8.000000e+00</td>\n",
       "      <td>-1.000000e+00</td>\n",
       "      <td>2.802000e+04</td>\n",
       "      <td>1900.000000</td>\n",
       "    </tr>\n",
       "    <tr>\n",
       "      <th>25%</th>\n",
       "      <td>-1.000000e+00</td>\n",
       "      <td>2.017000e+13</td>\n",
       "      <td>2.389360e+05</td>\n",
       "      <td>1979.000000</td>\n",
       "    </tr>\n",
       "    <tr>\n",
       "      <th>50%</th>\n",
       "      <td>-1.000000e+00</td>\n",
       "      <td>2.018000e+13</td>\n",
       "      <td>5.088500e+05</td>\n",
       "      <td>1986.000000</td>\n",
       "    </tr>\n",
       "    <tr>\n",
       "      <th>75%</th>\n",
       "      <td>7.752509e+09</td>\n",
       "      <td>2.021000e+13</td>\n",
       "      <td>1.970754e+10</td>\n",
       "      <td>1991.000000</td>\n",
       "    </tr>\n",
       "    <tr>\n",
       "      <th>max</th>\n",
       "      <td>5.847921e+10</td>\n",
       "      <td>2.024000e+13</td>\n",
       "      <td>5.849088e+10</td>\n",
       "      <td>2002.000000</td>\n",
       "    </tr>\n",
       "  </tbody>\n",
       "</table>\n",
       "</div>"
      ],
      "text/plain": [
       "         Subject ID   GO / SC Num  Terry Stop ID   Officer YOB\n",
       "count  6.098400e+04  6.098400e+04   6.098400e+04  60984.000000\n",
       "mean   7.264174e+09  2.018662e+13   1.214806e+10   1984.078398\n",
       "std    1.268858e+10  8.574292e+10   1.750952e+10      9.471936\n",
       "min   -8.000000e+00 -1.000000e+00   2.802000e+04   1900.000000\n",
       "25%   -1.000000e+00  2.017000e+13   2.389360e+05   1979.000000\n",
       "50%   -1.000000e+00  2.018000e+13   5.088500e+05   1986.000000\n",
       "75%    7.752509e+09  2.021000e+13   1.970754e+10   1991.000000\n",
       "max    5.847921e+10  2.024000e+13   5.849088e+10   2002.000000"
      ]
     },
     "execution_count": 29,
     "metadata": {},
     "output_type": "execute_result"
    }
   ],
   "source": [
    "# Summary statistics for numerical columns\n",
    "df.describe()"
   ]
  },
  {
   "cell_type": "markdown",
   "metadata": {},
   "source": [
    "We got the summary statistics for numerical columns to understand the distribution and key characteristics of our dataset. below are some of the key observations:  \n",
    "\n",
    "In this project, our key concern is the `Officer YOB`. From the summary, Majority of officers born between 1900 and 2002, their average YOB is 1984"
   ]
  },
  {
   "cell_type": "code",
   "execution_count": 30,
   "metadata": {},
   "outputs": [
    {
     "name": "stdout",
     "output_type": "stream",
     "text": [
      "Weapon Type Unique [nan '-' 'Lethal Cutting Instrument' 'Knife/Cutting/Stabbing Instrument'\n",
      " 'Blunt Object/Striking Implement' 'Automatic Handgun' 'Other Firearm'\n",
      " 'Firearm' 'Taser/Stun Gun' 'Mace/Pepper Spray' 'Firearm Other'\n",
      " 'Club, Blackjack, Brass Knuckles' 'Handgun'\n",
      " 'Personal Weapons (hands, feet, etc.)' 'Shotgun' 'Fire/Incendiary Device'\n",
      " 'Rifle' 'None/Not Applicable' 'Club' 'Firearm (unk type)' 'Poison'\n",
      " 'Brass Knuckles' 'Blackjack']\n",
      "\n",
      "\n",
      "Officer Squad Unique ['SOUTH PCT 1ST W - R/S RELIEF' 'NORTH PCT OPS - CPT'\n",
      " 'NORTH PCT 3RD W - NORA (JOHN) - PLATOON 1'\n",
      " 'NORTH PCT 1ST W - LINCOLN (UNION) - PLATOON 1'\n",
      " 'NORTH PCT 3RD W - LINCOLN - PLATOON 1' 'EAST PCT 3RD W - EDWARD'\n",
      " 'WEST PCT 3RD W - MARY - PLATOON 1' 'WEST PCT 2ND W - SPECIAL BEATS'\n",
      " 'EAST PCT 1ST W - E/G RELIEF (CHARLIE)'\n",
      " 'NORTH PCT 2ND WATCH - NORTH BEATS' 'EAST PCT 3RD WATCH - CHARLIE RELIEF'\n",
      " 'WEST PCT 2ND W - MARY BEATS' 'NORTH PCT 3RD W - L/U RELIEF'\n",
      " 'WEST PCT 2ND W - DAVID - PLATOON 1' 'WEST PCT 3RD W - QUEEN - PLATOON 1'\n",
      " 'SOUTHWEST PCT 1ST W - FRANK - PLATOON 2'\n",
      " 'TRAINING - FIELD TRAINING SQUAD' 'TRAF - DUI SQUAD'\n",
      " 'WEST PCT 3RD W - D/M RELIEF' 'SOUTH PCT 2ND W - ROBERT - PLATOON 2'\n",
      " 'SOUTHWEST PCT 1ST W - WILLIAM - PLATOON 2'\n",
      " 'SOUTH PCT 2ND W - SAM (OCEAN) - PLATOON 1'\n",
      " 'SOUTHWEST PCT 2ND W - FRANK - PLATOON 2'\n",
      " 'EAST PCT 2ND W - EDWARD - PLATOON 2'\n",
      " 'SOUTHWEST PCT 3RD W - FRANK - PLATOON 2'\n",
      " 'NORTH PCT 2ND W - UNION - PLATOON 1' 'NORTH PCT OPS - ACT DAY'\n",
      " 'SOUTHWEST PCT 2ND WATCH - F/W RELIEF'\n",
      " 'WEST PCT 3RD W - KING - PLATOON 1' 'WEST PCT 2ND W - KING - PLATOON 1'\n",
      " 'SOUTH PCT 2ND W - R/S RELIEF'\n",
      " 'NORTH PCT 2ND W - NORA (JOHN) - PLATOON 1'\n",
      " 'WEST PCT 2ND W - MARY - PLATOON 2' 'WEST PCT 3RD W - K/Q RELIEF'\n",
      " 'EAST PCT 3RD W - E/G RELIEF' 'WEST PCT 1ST W - KING - PLATOON 1'\n",
      " 'NORTH PCT 2ND W - JOHN RELIEF' 'WEST PCT 2ND W - K/Q RELIEF'\n",
      " 'EAST PCT 2ND W - BEATS' 'SOUTHWEST PCT - 1ST WATCH - F/W RELIEF'\n",
      " 'WEST PCT 1ST W - DAVID - PLATOON 1' 'WEST PCT 3RD W - DAVID - PLATOON 1'\n",
      " 'WEST PCT 3RD W - DAVID BEATS'\n",
      " 'NORTH PCT 1ST W - NORA (JOHN) - PLATOON 1'\n",
      " 'SOUTHWEST PCT 3RD W - WILLIAM - PLATOON 2'\n",
      " 'NORTH PCT 1ST W - BOY (JOHN) -  PLATOON 2'\n",
      " 'EAST PCT 2ND W - CHARLIE RELIEF' 'NORTH PCT 2ND WATCH - B/N RELIEF'\n",
      " 'SOUTH PCT 3RD W - ROBERT - PLATOON 2'\n",
      " 'NORTH PCT 3RD W - NORA - (JOHN) - PLATOON 2'\n",
      " 'NORTH PCT 1ST W - L/U RELIEF' 'WEST PCT OPS - CPT'\n",
      " 'WEST PCT 2ND W - D/M RELIEF' 'WEST PCT 2ND W - MARY - PLATOON 1'\n",
      " 'HR - DEPARTMENT UNAVAILABLE PERSONNEL'\n",
      " 'SOUTHWEST PCT 2ND W - WILLIAM - PLATOON 2'\n",
      " 'EAST PCT 3RD W - GEORGE - PLATOON 2' nan\n",
      " 'NORTH PCT 1ST W - B/N RELIEF (JOHN)' 'WEST PCT 1ST W - KQ/DM RELIEF'\n",
      " 'NORTH PCT 1ST W - BOY (JOHN) - PLATOON 1'\n",
      " 'SOUTH PCT 1ST W - ROBERT - PLATOON 2'\n",
      " 'EAST PCT 1ST W - GEORGE (CHARLIE) - PLATOON 2'\n",
      " 'EAST PCT 2ND W - CHARLIE - PLATOON 2'\n",
      " 'WEST PCT 2ND W - QUEEN - PLATOON 1' 'SOUTH PCT 2ND W - SAM - PLATOON 2'\n",
      " 'SOUTH PCT 2ND W - OCEAN RELIEF' 'NORTH PCT 2ND W - JOHN - PLATOON 1'\n",
      " 'EAST PCT 2ND W - GEORGE (CHARLIE) - PLATOON 1'\n",
      " 'EAST PCT 2ND W - E/G RELIEF' 'CRG - SQUAD 81C'\n",
      " 'NORTH PCT 3RD W - UNION - PLATOON 1'\n",
      " 'NORTH PCT 2ND W - BOY (JOHN) - PLATOON 1'\n",
      " 'NORTH PCT 1ST W - UNION - PLATOON 1' 'NORTH PCT 3RD W - JOHN RELIEF'\n",
      " 'CRG - SQUAD 81D' 'EAST PCT 3RD W - CHARLIE - PLATOON 2'\n",
      " 'SOUTH PCT 1ST W - SAM - PLATOON 2'\n",
      " 'NORTH PCT 2ND W - LINCOLN - PLATOON 1'\n",
      " 'NORTH PCT 3RD W - BOY (JOHN) - PLATOON 1'\n",
      " 'SOUTH PCT 3RD W - SAM - PLATOON 2' 'NORTH PCT 3RD W - B/N RELIEF'\n",
      " 'WEST PCT 2ND W - DAVID BEATS'\n",
      " 'WEST PCT 1ST W - MARY (DAVID) - PLATOON 2' 'SOUTH PCT OPS - DAY ACT'\n",
      " 'SOUTH PCT 3RD W - R/S RELIEF' 'SOUTH PCT 1ST W - OCEAN - PLATOON 2'\n",
      " 'EAST PCT 3RD W - EDWARD (CHARLIE) - PLATOON 1'\n",
      " 'NORTH PCT 2ND W - L/U RELIEF' 'WEST PCT 1ST W - KING - PLATOON 2'\n",
      " 'EAST PCT 3RD W - EAST BEATS' 'SOUTHWEST PCT 2ND W - FRANK - PLATOON 1'\n",
      " 'WEST PCT OPS - NIGHT BIKES' 'SOUTHWEST PCT OPS - CPT'\n",
      " 'NORTH PCT 3RD W - JOHN - PLATOON 1'\n",
      " 'SOUTH PCT 1ST W - ROBERT (OCEAN) - PLATOON 1'\n",
      " 'EAST PCT 2ND W - GEORGE - PLATOON 2' 'CRG - SQUAD 82C'\n",
      " 'EAST PCT 3RD W - GEORGE (CHARLIE) - PLATOON 1'\n",
      " 'WEST PCT 2ND W - KING BEATS' 'CRG - SQUAD 82A'\n",
      " 'SOUTHWEST PCT 2ND W - WILLIAM' 'GUN VIOLENCE REDUCTION SQUAD C'\n",
      " 'WEST PCT OPS - SEA CTR' 'SOUTH PCT 2ND W - OCEAN - PLATOON 2'\n",
      " 'SOUTH PCT 3RD W - OCEAN - PLATOON 2'\n",
      " 'SOUTH PCT 3RD W - ROBERT (OCEAN) - PLATOON 1' 'CRG - SQUAD 81E'\n",
      " 'EAST PCT 1ST W - EDWARD (CHARLIE) - PLATOON 1'\n",
      " 'SOUTH PCT 3RD W - OCEAN RELIEF' 'SOUTH PCT OPS - NIGHT ACT'\n",
      " 'CRISIS RESPONSE SQUAD' 'SOUTHWEST PCT 2ND W - SOUTHWEST BEATS'\n",
      " 'CRG - SQUAD 81B' 'SOUTHWEST PCT OPS - NIGHT ACT'\n",
      " 'EAST PCT 1ST W - EDWARD (CHARLIE) - PLATOON 2'\n",
      " 'WEST PCT 3RD W - MARY - PLATOON 2' 'CRG - SQUAD 82D'\n",
      " 'WEST PCT 2ND W - KING - PLATOON 2'\n",
      " 'WEST PCT 1ST W - QUEEN (DAVID) - PLATOON 2' 'CANINE - SQUAD C'\n",
      " 'CRG - SQUAD 82E' 'WEST PCT 2ND W - DAVID - PLATOON 2'\n",
      " 'SOUTHWEST PCT - 3RD WATCH - F/W RELIEF' 'BURG/THEFT/JUV - NORTH'\n",
      " 'NORTH PCT 2ND W - NORA (JOHN) - PLATOON 2' 'WEST PCT OPS - DAY BIKES'\n",
      " 'NORTH PCT 2ND W - UNION - PLATOON 2' 'FORCE REVIEW SQUAD'\n",
      " 'WEST PCT 3RD W - QUEEN - PLATOON 2' 'WEST PCT 2ND W - QUEEN - PLATOON 2'\n",
      " 'EAST PCT OPS - NIGHT ACT'\n",
      " 'EAST PCT 1ST W - GEORGE (CHARLIE) - PLATOON 1'\n",
      " 'NORTH PCT 2ND W - BOY (JOHN) - PLATOON 2'\n",
      " 'CRISIS INTERVENTION COORDINATION SQUAD'\n",
      " 'SOUTHWEST PCT 1ST W - FRANK - PLATOON 1'\n",
      " 'WEST PCT 1ST W - MARY (DAVID) - PLATOON 1'\n",
      " 'SOUTH PCT 2ND W - ROBERT (OCEAN) - PLATOON 1'\n",
      " 'CCI - GENERAL INVESTIGATIONS SQUAD B'\n",
      " 'WEST PCT 3RD W - DAVID - PLATOON 2'\n",
      " 'SOUTHWEST PCT 3RD W - WILLIAM - PLATOON 1' 'CANINE - SQUAD A'\n",
      " 'SAU SQUAD A' 'CRG - SQUAD 82B'\n",
      " 'NORTH PCT 3RD W - BOY (JOHN) - PLATOON 2'\n",
      " 'GUN VIOLENCE REDUCTION SQUAD A' 'SOUTH PCT 2ND W - SAM BEATS'\n",
      " 'SOUTHWEST PCT 2ND W - WILLIAM - PLATOON 1' 'SOUTH PCT 3RD W - ROBERT'\n",
      " 'SOUTHWEST PCT 3RD W - FRANK - PLATOON 1' 'WEST PCT 1ST W - KING/QUEEN'\n",
      " 'WEST PCT 3RD W - DAVID' 'WEST PCT 1ST W - QUEEN (DAVID) - PLATOON 1'\n",
      " 'NORTH PCT 3RD W - UNION - PLATOON 2'\n",
      " 'ZOLD CRIME ANALYSIS UNIT - ANALYSTS'\n",
      " 'NORTH PCT 1ST W - NORA (JOHN) - PLATOON 2'\n",
      " 'SOUTH PCT 1ST W - SAM (OCEAN) - PLATOON 1' 'SOUTH PCT OPS - BURG/THEFT'\n",
      " 'EAST PCT 2ND W - EDWARD (CHARLIE) - PLATOON 1'\n",
      " 'WEST PCT OPS - COMMERCIAL SEC' 'ROBBERY SQUAD A'\n",
      " 'WEST PCT OPS - MOUNTED PATROL' 'HARBOR - SQUAD D'\n",
      " 'NORTH PCT 1ST W - BOY (JOHN)' 'CRG - SQUAD 81A'\n",
      " 'COP - STRATEGIC COMMUNICATIONS' 'BURG/THEFT/JUV - EAST'\n",
      " 'TRAF - AM ENFORCEMENT' 'WEST PCT 3RD W - KING - PLATOON 2'\n",
      " 'CCI - MAJOR CRIMES TASK FORCE' 'NARC - PROACTIVE SQUAD C'\n",
      " 'SOUTH PCT 3RD W - SAM (OCEAN) - PLATOON 1' 'WEST PCT 2ND W - KING'\n",
      " 'WEST PCT 1ST W - DAVID/MARY' 'NORTH PCT 2ND W - LINCOLN - PLATOON 2'\n",
      " 'MAJOR CRIMES TASK FORCE' 'TRAF - PM ENFORCEMENT' 'EAST PCT OPS - CPT'\n",
      " 'HR - HUMAN RESOURCES  - DEPT UNAVAIL PERSONNEL'\n",
      " 'DV SQUAD A - INVESTIGATIONS' 'BURG/THEFT/JUV - SOUTH'\n",
      " 'NORTH PCT 1ST W - NORA (JOHN)' 'NORTH PCT 3RD W - LINCOLN - PLATOON 2'\n",
      " 'SWAT - DAY SQUAD 3' 'SOUTHWEST PCT 1ST W - WILLIAM - PLATOON 1'\n",
      " 'GUN VIOLENCE REDUCTION SQUAD B' 'EAST PCT OPS - BURG/THEFT' 'AUTO THEFT'\n",
      " 'SWAT - NIGHT SQUAD 1' 'CSI SQUAD' 'SWAT - DAY SQUAD 2'\n",
      " 'SOUTH PCT OPS - CPT' 'WEST PCT 2ND W - QUEEN'\n",
      " 'TRAF - MOTORCYCLE - T2 SQUAD' 'SOUTH PCT 2ND W - SAM'\n",
      " 'EAST PCT 1ST W - EDWARD (CHARLIE)' 'JOINT ENFORCEMENT TEAM (JET)'\n",
      " 'TRAINING - ADVANCED UNIT ADMINISTRATION' 'NORTH PCT 2ND W - NORA'\n",
      " 'NARC - PROACTIVE SQUAD B' 'JOINT ENFORCEMENT TEAM'\n",
      " 'FORCE INVESTIGATIONS SQUAD' 'HUMAN TRAFFICKING SQUAD'\n",
      " 'WEST PCT 3RD W - KING' 'ALTERNATIVE RESPONSE TEAM (ART) - SQUAD A'\n",
      " 'CCI - GENERAL INVESTIGATIONS SQUAD C'\n",
      " 'COP - STRATEGIC COMMUNICATIONS - PUBLIC AFFAIRS'\n",
      " 'EAST PCT 2ND W - GEORGE' 'FORENSICS - CRIME SCENE INVESTIGATIONS'\n",
      " 'ALTERNATIVE RESPONSE TEAM (ART) - SQUAD B'\n",
      " 'COMMUNITY OUTREACH - YOUTH VIOLENCE - SCHOOLS'\n",
      " 'ICAC - INTERNET CRIMES AGAINST CHILDREN SQUAD' 'CANINE - NIGHT SQUAD'\n",
      " 'EAST PCT 2ND W - CHARLIE' 'DV SQUAD C - ELDER ABUSE'\n",
      " 'COMMUNITY OUTREACH - YOUTH VIOLENCE -SCHOOLS DETAIL'\n",
      " 'SOUTH PCT 2ND W - ROBERT' 'SVU SQUAD E - SEXUAL ASSAULT'\n",
      " 'DV SQUAD D - ORDER SERVICE' 'NORTH PCT 3RD W - JOHN' 'PAWN DETAIL'\n",
      " 'HARBOR - SQUAD A' 'TRAF - MOTORCYCLE UNIT - T4 SQUAD'\n",
      " 'NORTH PCT 1ST W - LINCOLN (UNION) - PLATOON 2'\n",
      " 'TRAF - COLLISION INVESTIGATION' 'NORTH PCT 3RD W - NORA'\n",
      " 'SWAT - DAY SQUAD 1' 'ARSON/BOMB - SQUAD A' 'SOUTH PCT 1ST W - ROBERT'\n",
      " 'SOUTHWEST PCT 2ND W - FRANK' 'NORTH PCT 2ND W - LINCOLN'\n",
      " 'WEST PCT 3RD W - MARY' 'SVU SQUAD A - DV INVESTIGATIONS'\n",
      " 'OPS BUREAU - SPECIAL ASSIGNMENTS' 'RECORDS - DAY SHIFT'\n",
      " 'SOUTH PCT 1ST W - SAM' 'GUILD PRESIDENT'\n",
      " 'CCI - GENERAL INVESTIGATIONS SQUAD A' 'TRAINING - ADVANCED - SQUAD C'\n",
      " 'HARBOR - SQUAD B' 'EAST PCT 2ND W - EDWARD' 'NORTH PCT 1ST W - LINCOLN'\n",
      " 'TRAINING - LEARNING MANAGEMENT SYSTEM' 'WEST PCT OPS - BURG/THEFT'\n",
      " 'SOUTH PCT 3RD W - SAM' 'NORTH PCT 2ND W - PCT SUPPORT'\n",
      " 'CANINE - DAY SQUAD' 'PUBLIC AFFAIRS SQUAD' 'NORTH PCT 3RD W - BOY'\n",
      " 'CRG - ADMINISTRATION' 'SOUTHWEST PCT 1ST W - WILLIAM'\n",
      " 'TRAF - MOTORCYCLE UNIT - T3 SQUAD' 'ROBBERY SQUAD B'\n",
      " 'SOUTHWEST PCT OPS - DAY ACT' 'WEST PCT 3RD W - QUEEN'\n",
      " 'COMMUNITY OUTREACH - YOUTH VIOLENCE-SCHOOLS DETAIL'\n",
      " 'NORTH PCT OPS - BURG/THEFT' 'SOUTHWEST PCT 3RD W - FRANK'\n",
      " 'SVU SQUAD D - ORDER SERVICE' 'NORTH PCT 3RD W - LINCOLN'\n",
      " 'WEST PCT 2ND W - MARY' 'BURG/THEFT/JUV - WEST'\n",
      " 'NARC - PROACTIVE SQUAD A' 'COMMUNITY OUTREACH - SPECIAL PROJECTS DETAIL'\n",
      " 'WEST PCT OPS - ACT NIGHT' 'SAU SQUAD B'\n",
      " 'TRAF - MOTORCYCLE UNIT - T2 SQUAD' 'SOUTHWEST PCT OPS - BURG/THEFT'\n",
      " 'COMM - INTERNET AND TELEPHONE REPORTING (ITRU)'\n",
      " 'HUMAN TRAFFICKING - SQUAD A' 'HOMICIDE SQUAD A']\n"
     ]
    }
   ],
   "source": [
    "# Checking for unique values for the Weapon Type and Officer Squad column which indicated there had missing values. \n",
    "# This will guide us on how to impute the values later.\n",
    "weapon_type = df[\"Weapon Type\"].unique()\n",
    "officer_squad = df[\"Officer Squad\"].unique()\n",
    "\n",
    "print(\"Weapon Type Unique\", weapon_type)\n",
    "print(\"\\n\")\n",
    "print(\"Officer Squad Unique\", officer_squad)"
   ]
  },
  {
   "cell_type": "markdown",
   "metadata": {},
   "source": [
    "## **Data Preprocessing**"
   ]
  },
  {
   "cell_type": "markdown",
   "metadata": {},
   "source": [
    "### Handling Missing Values"
   ]
  },
  {
   "cell_type": "markdown",
   "metadata": {},
   "source": [
    "We took the following steps to handle the missing values in the Weapon Type column:  \n",
    "\n",
    "We first replaced all the \"-\" and NaN values with `Unknown` so as to indicate that Weapon might have been present at the scene only that the Type was not captured"
   ]
  },
  {
   "cell_type": "code",
   "execution_count": 31,
   "metadata": {},
   "outputs": [],
   "source": [
    "# Step 1: Replace '-' with NaN\n",
    "df['Weapon Type'].replace('-', pd.NA, inplace=True)\n",
    "\n",
    "# Step 2: Impute NaN values (e.g., with 'Unknown')\n",
    "df['Weapon Type'].fillna('Unknown', inplace=True)"
   ]
  },
  {
   "cell_type": "code",
   "execution_count": 37,
   "metadata": {},
   "outputs": [
    {
     "data": {
      "text/html": [
       "<div>\n",
       "<style scoped>\n",
       "    .dataframe tbody tr th:only-of-type {\n",
       "        vertical-align: middle;\n",
       "    }\n",
       "\n",
       "    .dataframe tbody tr th {\n",
       "        vertical-align: top;\n",
       "    }\n",
       "\n",
       "    .dataframe thead th {\n",
       "        text-align: right;\n",
       "    }\n",
       "</style>\n",
       "<table border=\"1\" class=\"dataframe\">\n",
       "  <thead>\n",
       "    <tr style=\"text-align: right;\">\n",
       "      <th></th>\n",
       "      <th>Subject Age Group</th>\n",
       "      <th>Subject ID</th>\n",
       "      <th>GO / SC Num</th>\n",
       "      <th>Terry Stop ID</th>\n",
       "      <th>Stop Resolution</th>\n",
       "      <th>Weapon Type</th>\n",
       "      <th>Officer ID</th>\n",
       "      <th>Officer YOB</th>\n",
       "      <th>Officer Gender</th>\n",
       "      <th>Officer Race</th>\n",
       "      <th>...</th>\n",
       "      <th>Reported Time</th>\n",
       "      <th>Initial Call Type</th>\n",
       "      <th>Final Call Type</th>\n",
       "      <th>Call Type</th>\n",
       "      <th>Officer Squad</th>\n",
       "      <th>Arrest Flag</th>\n",
       "      <th>Frisk Flag</th>\n",
       "      <th>Precinct</th>\n",
       "      <th>Sector</th>\n",
       "      <th>Beat</th>\n",
       "    </tr>\n",
       "  </thead>\n",
       "  <tbody>\n",
       "    <tr>\n",
       "      <th>0</th>\n",
       "      <td>18 - 25</td>\n",
       "      <td>-1</td>\n",
       "      <td>20170000017766</td>\n",
       "      <td>230380</td>\n",
       "      <td>Offense Report</td>\n",
       "      <td>Unknown</td>\n",
       "      <td>6728</td>\n",
       "      <td>1973</td>\n",
       "      <td>M</td>\n",
       "      <td>Two or More Races</td>\n",
       "      <td>...</td>\n",
       "      <td>08:03:00.0000000</td>\n",
       "      <td>ASLT - PERSON SHOT OR SHOT AT</td>\n",
       "      <td>--DRIVE BY SHOOTING - NO INJURIES</td>\n",
       "      <td>911</td>\n",
       "      <td>SOUTH PCT 1ST W - R/S RELIEF</td>\n",
       "      <td>N</td>\n",
       "      <td>Y</td>\n",
       "      <td>South</td>\n",
       "      <td>S</td>\n",
       "      <td>S2</td>\n",
       "    </tr>\n",
       "    <tr>\n",
       "      <th>1</th>\n",
       "      <td>NaN</td>\n",
       "      <td>-1</td>\n",
       "      <td>20190000273690</td>\n",
       "      <td>8755198750</td>\n",
       "      <td>Field Contact</td>\n",
       "      <td>Unknown</td>\n",
       "      <td>7528</td>\n",
       "      <td>1969</td>\n",
       "      <td>M</td>\n",
       "      <td>White</td>\n",
       "      <td>...</td>\n",
       "      <td>06:38:41.0000000</td>\n",
       "      <td>OBS WEAPN-IP/JO-GUN,DEADLY WPN (NO THRT/ASLT/D...</td>\n",
       "      <td>--WEAPON,PERSON WITH - OTHER WEAPON</td>\n",
       "      <td>911</td>\n",
       "      <td>NORTH PCT OPS - CPT</td>\n",
       "      <td>N</td>\n",
       "      <td>Y</td>\n",
       "      <td>North</td>\n",
       "      <td>U</td>\n",
       "      <td>U3</td>\n",
       "    </tr>\n",
       "    <tr>\n",
       "      <th>2</th>\n",
       "      <td>36 - 45</td>\n",
       "      <td>7735709716</td>\n",
       "      <td>20200000186847</td>\n",
       "      <td>13469755649</td>\n",
       "      <td>Field Contact</td>\n",
       "      <td>Unknown</td>\n",
       "      <td>6414</td>\n",
       "      <td>1964</td>\n",
       "      <td>M</td>\n",
       "      <td>Asian</td>\n",
       "      <td>...</td>\n",
       "      <td>01:27:52.0000000</td>\n",
       "      <td>OBS - DOWN - CHECK FOR PERSON DOWN</td>\n",
       "      <td>--SUSPICIOUS CIRCUM. - SUSPICIOUS PERSON</td>\n",
       "      <td>911</td>\n",
       "      <td>NORTH PCT 3RD W - NORA (JOHN) - PLATOON 1</td>\n",
       "      <td>N</td>\n",
       "      <td>N</td>\n",
       "      <td>North</td>\n",
       "      <td>N</td>\n",
       "      <td>N2</td>\n",
       "    </tr>\n",
       "    <tr>\n",
       "      <th>3</th>\n",
       "      <td>46 - 55</td>\n",
       "      <td>-1</td>\n",
       "      <td>20170000149189</td>\n",
       "      <td>460834</td>\n",
       "      <td>Arrest</td>\n",
       "      <td>Unknown</td>\n",
       "      <td>5491</td>\n",
       "      <td>1967</td>\n",
       "      <td>M</td>\n",
       "      <td>Black or African American</td>\n",
       "      <td>...</td>\n",
       "      <td>09:53:00.0000000</td>\n",
       "      <td>ASLT - WITH OR W/O WPNS (NO SHOOTINGS)</td>\n",
       "      <td>--ASSAULTS, OTHER</td>\n",
       "      <td>911</td>\n",
       "      <td>NORTH PCT 1ST W - LINCOLN (UNION) - PLATOON 1</td>\n",
       "      <td>N</td>\n",
       "      <td>Y</td>\n",
       "      <td>North</td>\n",
       "      <td>L</td>\n",
       "      <td>L3</td>\n",
       "    </tr>\n",
       "    <tr>\n",
       "      <th>4</th>\n",
       "      <td>46 - 55</td>\n",
       "      <td>-1</td>\n",
       "      <td>20160000001969</td>\n",
       "      <td>153868</td>\n",
       "      <td>Field Contact</td>\n",
       "      <td>Unknown</td>\n",
       "      <td>6899</td>\n",
       "      <td>1977</td>\n",
       "      <td>M</td>\n",
       "      <td>White</td>\n",
       "      <td>...</td>\n",
       "      <td>21:57:00.0000000</td>\n",
       "      <td>NaN</td>\n",
       "      <td>NaN</td>\n",
       "      <td>NaN</td>\n",
       "      <td>NORTH PCT 3RD W - LINCOLN - PLATOON 1</td>\n",
       "      <td>N</td>\n",
       "      <td>N</td>\n",
       "      <td>NaN</td>\n",
       "      <td>NaN</td>\n",
       "      <td>NaN</td>\n",
       "    </tr>\n",
       "  </tbody>\n",
       "</table>\n",
       "<p>5 rows × 23 columns</p>\n",
       "</div>"
      ],
      "text/plain": [
       "  Subject Age Group  Subject ID     GO / SC Num  Terry Stop ID  \\\n",
       "0           18 - 25          -1  20170000017766         230380   \n",
       "1               NaN          -1  20190000273690     8755198750   \n",
       "2           36 - 45  7735709716  20200000186847    13469755649   \n",
       "3           46 - 55          -1  20170000149189         460834   \n",
       "4           46 - 55          -1  20160000001969         153868   \n",
       "\n",
       "  Stop Resolution Weapon Type Officer ID  Officer YOB Officer Gender  \\\n",
       "0  Offense Report     Unknown       6728         1973              M   \n",
       "1   Field Contact     Unknown       7528         1969              M   \n",
       "2   Field Contact     Unknown       6414         1964              M   \n",
       "3          Arrest     Unknown       5491         1967              M   \n",
       "4   Field Contact     Unknown       6899         1977              M   \n",
       "\n",
       "                Officer Race  ...     Reported Time  \\\n",
       "0          Two or More Races  ...  08:03:00.0000000   \n",
       "1                      White  ...  06:38:41.0000000   \n",
       "2                      Asian  ...  01:27:52.0000000   \n",
       "3  Black or African American  ...  09:53:00.0000000   \n",
       "4                      White  ...  21:57:00.0000000   \n",
       "\n",
       "                                   Initial Call Type  \\\n",
       "0                      ASLT - PERSON SHOT OR SHOT AT   \n",
       "1  OBS WEAPN-IP/JO-GUN,DEADLY WPN (NO THRT/ASLT/D...   \n",
       "2                 OBS - DOWN - CHECK FOR PERSON DOWN   \n",
       "3             ASLT - WITH OR W/O WPNS (NO SHOOTINGS)   \n",
       "4                                                NaN   \n",
       "\n",
       "                            Final Call Type Call Type  \\\n",
       "0         --DRIVE BY SHOOTING - NO INJURIES       911   \n",
       "1       --WEAPON,PERSON WITH - OTHER WEAPON       911   \n",
       "2  --SUSPICIOUS CIRCUM. - SUSPICIOUS PERSON       911   \n",
       "3                         --ASSAULTS, OTHER       911   \n",
       "4                                       NaN       NaN   \n",
       "\n",
       "                                   Officer Squad Arrest Flag Frisk Flag  \\\n",
       "0                   SOUTH PCT 1ST W - R/S RELIEF           N          Y   \n",
       "1                            NORTH PCT OPS - CPT           N          Y   \n",
       "2      NORTH PCT 3RD W - NORA (JOHN) - PLATOON 1           N          N   \n",
       "3  NORTH PCT 1ST W - LINCOLN (UNION) - PLATOON 1           N          Y   \n",
       "4          NORTH PCT 3RD W - LINCOLN - PLATOON 1           N          N   \n",
       "\n",
       "  Precinct Sector Beat  \n",
       "0    South      S   S2  \n",
       "1    North      U   U3  \n",
       "2    North      N   N2  \n",
       "3    North      L   L3  \n",
       "4      NaN    NaN  NaN  \n",
       "\n",
       "[5 rows x 23 columns]"
      ]
     },
     "execution_count": 37,
     "metadata": {},
     "output_type": "execute_result"
    }
   ],
   "source": [
    "# Viewing the first 5 rows to check on any missing values not identified as NaN\n",
    "df.head()"
   ]
  },
  {
   "cell_type": "markdown",
   "metadata": {},
   "source": [
    "There are also other columns with \"-\" values. We are first going to convert them into NaN and re-check sum of null values in our dataset. There is a possibility they were not recorded when this data was being captured"
   ]
  },
  {
   "cell_type": "code",
   "execution_count": 33,
   "metadata": {},
   "outputs": [
    {
     "data": {
      "text/plain": [
       "Subject Age Group            2200\n",
       "Subject ID                      0\n",
       "GO / SC Num                     0\n",
       "Terry Stop ID                   0\n",
       "Stop Resolution                 0\n",
       "Weapon Type                     0\n",
       "Officer ID                     24\n",
       "Officer YOB                     0\n",
       "Officer Gender                  0\n",
       "Officer Race                    0\n",
       "Subject Perceived Race       1816\n",
       "Subject Perceived Gender      243\n",
       "Reported Date                   0\n",
       "Reported Time                   0\n",
       "Initial Call Type           13473\n",
       "Final Call Type             13473\n",
       "Call Type                   13473\n",
       "Officer Squad                 561\n",
       "Arrest Flag                     0\n",
       "Frisk Flag                    478\n",
       "Precinct                    10619\n",
       "Sector                      10770\n",
       "Beat                        10764\n",
       "dtype: int64"
      ]
     },
     "execution_count": 33,
     "metadata": {},
     "output_type": "execute_result"
    }
   ],
   "source": [
    "# Replace '-' values with NaN\n",
    "df.replace('-', np.nan, inplace=True)\n",
    "\n",
    "# Check if there is any null values in the Dataset\n",
    "df.isna().sum()"
   ]
  },
  {
   "cell_type": "code",
   "execution_count": 34,
   "metadata": {},
   "outputs": [
    {
     "name": "stdout",
     "output_type": "stream",
     "text": [
      "                          Missing Values  Percentage\n",
      "Subject Age Group                   2200    3.607504\n",
      "Officer ID                            24    0.039355\n",
      "Subject Perceived Race              1816    2.977830\n",
      "Subject Perceived Gender             243    0.398465\n",
      "Initial Call Type                  13473   22.092680\n",
      "Final Call Type                    13473   22.092680\n",
      "Call Type                          13473   22.092680\n",
      "Officer Squad                        561    0.919913\n",
      "Frisk Flag                           478    0.783812\n",
      "Precinct                           10619   17.412764\n",
      "Sector                             10770   17.660370\n",
      "Beat                               10764   17.650531\n"
     ]
    }
   ],
   "source": [
    "# Checking for missing values and their percentages\n",
    "missing_values = df.isnull().sum()\n",
    "missing_percentage = (missing_values / df.shape[0]) * 100\n",
    "missing_data = pd.DataFrame({'Missing Values': missing_values, 'Percentage': missing_percentage})\n",
    "print(missing_data[missing_data['Missing Values'] > 0])"
   ]
  },
  {
   "cell_type": "markdown",
   "metadata": {},
   "source": [
    "Fom the above ouputs, it is evident the Dataset had lots of \"-\" values and after changing them to NaN, we can see that:  \n",
    "\n",
    "- **Subject Age Group** has **2200** Null values which is at **3.6%**\n",
    "- **Officer ID** has **24** Null values which is at **0.04%**\n",
    "- **Subject Perceived Race** has **1816** Null values which is at **2.98%**\n",
    "- **Subject Perceived Gender** has **243** Null values which is at **0.40%**\n",
    "- **Initial Call Type**, **Final Call Type**, and **Call Type** have **13473** Null values each which are all at **22.09%** each\n",
    "- **Officer Squad** has **561** Null values which is at **0.92%**\n",
    "- **Frisk Flag** has **478** Null values which is at **0.78%**\n",
    "- **Precinct** has **10619** Null values which is at **17.41%**\n",
    "- **Sector** has **10770** Null values which is at **17.66%**\n",
    "- **Beat** has **10764** Null values which is at **17.65%**\n"
   ]
  },
  {
   "cell_type": "code",
   "execution_count": 40,
   "metadata": {},
   "outputs": [],
   "source": [
    "# For Initial Call Type, Final Call Type, Call Type: Impute with a placeholder\n",
    "df[\"Initial Call Type\"].fillna(\"Unknown\", inplace=True)\n",
    "df['Final Call Type'].fillna('Unknown', inplace=True)\n",
    "df['Call Type'].fillna('Unknown', inplace=True)\n",
    "\n",
    "# For Officer Squad: Impute with a placeholder\n",
    "df['Officer Squad'].fillna('Unknown', inplace=True)\n",
    "\n",
    "# For Precinct, Sector, Beat: Impute with 'Unknown' since these are categorical\n",
    "df['Precinct'].fillna('Unknown', inplace=True)\n",
    "df['Sector'].fillna('Unknown', inplace=True)\n",
    "df['Beat'].fillna('Unknown', inplace=True)\n",
    "\n",
    "# For Subject Perceived Race: Impute with mode\n",
    "df['Subject Perceived Race'].fillna(df['Subject Perceived Race'].mode()[0], inplace=True)\n",
    "\n",
    "# For Subject Perceived Gender: Impute with mode\n",
    "df['Subject Perceived Gender'].fillna(df['Subject Perceived Gender'].mode()[0], inplace=True)\n",
    "\n",
    "# For Officer ID: Impute with a placeholder since it's categorical\n",
    "df['Officer ID'].fillna('Unknown', inplace=True)\n",
    "\n",
    "# For Subject Age Group: Impute with mode (most common age group)\n",
    "df['Subject Age Group'].fillna(df['Subject Age Group'].mode()[0], inplace=True)\n",
    "\n",
    "# For Frisk Flag: Impute with mode (it’s binary Y/N)\n",
    "df['Frisk Flag'].fillna(df['Frisk Flag'].mode()[0], inplace=True)"
   ]
  },
  {
   "cell_type": "markdown",
   "metadata": {},
   "source": [
    "Imputed all the missing values and we are now going to confirm if their is any missing value"
   ]
  },
  {
   "cell_type": "code",
   "execution_count": 46,
   "metadata": {},
   "outputs": [
    {
     "data": {
      "text/plain": [
       "Subject Age Group           False\n",
       "Subject ID                  False\n",
       "GO / SC Num                 False\n",
       "Terry Stop ID               False\n",
       "Stop Resolution             False\n",
       "Weapon Type                 False\n",
       "Officer ID                  False\n",
       "Officer YOB                 False\n",
       "Officer Gender              False\n",
       "Officer Race                False\n",
       "Subject Perceived Race      False\n",
       "Subject Perceived Gender    False\n",
       "Reported Date               False\n",
       "Reported Time               False\n",
       "Initial Call Type           False\n",
       "Final Call Type             False\n",
       "Call Type                   False\n",
       "Officer Squad               False\n",
       "Arrest Flag                 False\n",
       "Frisk Flag                  False\n",
       "Precinct                    False\n",
       "Sector                      False\n",
       "Beat                        False\n",
       "dtype: bool"
      ]
     },
     "execution_count": 46,
     "metadata": {},
     "output_type": "execute_result"
    }
   ],
   "source": [
    "df.isna().any()"
   ]
  },
  {
   "cell_type": "markdown",
   "metadata": {},
   "source": [
    "We have completely worked out any missing values"
   ]
  },
  {
   "cell_type": "code",
   "execution_count": 35,
   "metadata": {},
   "outputs": [],
   "source": [
    "# Columns to retain for X (features) and y (target)\n",
    "relevant_columns = [\n",
    "    'Stop Resolution', 'Weapon Type', 'Officer Gender', \n",
    "    'Officer Race', 'Officer YOB', 'Subject Perceived Race', \n",
    "    'Subject Perceived Gender', 'Reported Time', 'Frisk Flag', \n",
    "    'Arrest Flag'  # This is for y\n",
    "]"
   ]
  },
  {
   "cell_type": "code",
   "execution_count": 36,
   "metadata": {},
   "outputs": [
    {
     "data": {
      "text/plain": [
       "Stop Resolution                0\n",
       "Weapon Type                    0\n",
       "Officer Gender                 0\n",
       "Officer Race                   0\n",
       "Officer YOB                    0\n",
       "Subject Perceived Race      1816\n",
       "Subject Perceived Gender     243\n",
       "Reported Time                  0\n",
       "Frisk Flag                   478\n",
       "Arrest Flag                    0\n",
       "dtype: int64"
      ]
     },
     "execution_count": 36,
     "metadata": {},
     "output_type": "execute_result"
    }
   ],
   "source": [
    "# Keep only the relevant columns\n",
    "terry_stops_df = df[relevant_columns]\n",
    "terry_stops_df.isna().sum()\n"
   ]
  },
  {
   "cell_type": "code",
   "execution_count": null,
   "metadata": {},
   "outputs": [],
   "source": []
  }
 ],
 "metadata": {
  "kernelspec": {
   "display_name": "learn-env",
   "language": "python",
   "name": "python3"
  },
  "language_info": {
   "codemirror_mode": {
    "name": "ipython",
    "version": 3
   },
   "file_extension": ".py",
   "mimetype": "text/x-python",
   "name": "python",
   "nbconvert_exporter": "python",
   "pygments_lexer": "ipython3",
   "version": "3.8.5"
  }
 },
 "nbformat": 4,
 "nbformat_minor": 2
}
